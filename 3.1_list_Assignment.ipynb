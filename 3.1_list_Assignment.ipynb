{
  "cells": [
    {
      "cell_type": "markdown",
      "metadata": {
        "id": "Wpsf54h8ew9F"
      },
      "source": [
        "# Module 3: Data Structures Assignments\n",
        "## Lesson 3.1: Lists\n",
        "### Assignment 1: Creating and Accessing Lists\n",
        "\n",
        "Create a list of the first 20 positive integers. Print the list.\n",
        "\n",
        "### Assignment 2: Accessing List Elements\n",
        "\n",
        "Print the first, middle, and last elements of the list created in Assignment 1.\n",
        "\n",
        "### Assignment 3: List Slicing\n",
        "\n",
        "Print the first five elements, the last five elements, and the elements from index 5 to 15 of the list created in Assignment 1.\n",
        "\n",
        "### Assignment 4: List Comprehensions\n",
        "\n",
        "Create a new list containing the squares of the first 10 positive integers using a list comprehension. Print the new list.\n",
        "\n",
        "### Assignment 5: Filtering Lists\n",
        "\n",
        "Create a new list containing only the even numbers from the list created in Assignment 1 using a list comprehension. Print the new list.\n",
        "\n",
        "### Assignment 6: List Methods\n",
        "\n",
        "Create a list of random numbers and sort it in ascending and descending order. Remove the duplicates from the list and print the modified list.\n",
        "\n",
        "### Assignment 7: Nested Lists\n",
        "\n",
        "Create a nested list representing a 3x3 matrix and print the matrix. Access and print the element at the second row and third column.\n",
        "\n",
        "### Assignment 8: List of Dictionaries\n",
        "\n",
        "Create a list of dictionaries where each dictionary represents a student with keys 'name' and 'score'. Sort the list of dictionaries by the 'score' in descending order and print the sorted list.\n",
        "\n",
        "### Assignment 9: Matrix Transposition\n",
        "\n",
        "Write a function that takes a 3x3 matrix (nested list) as input and returns its transpose. Print the original and transposed matrices.\n",
        "\n",
        "### Assignment 10: Flattening a Nested List\n",
        "\n",
        "Write a function that takes a nested list and flattens it into a single list. Print the original and flattened lists.\n",
        "\n",
        "### Assignment 11: List Manipulation\n",
        "\n",
        "Create a list of the first 10 positive integers. Remove the elements at indices 2, 4, and 6, and insert the element '99' at index 5. Print the modified list.\n",
        "\n",
        "### Assignment 12: List Zipping\n",
        "\n",
        "Create two lists of the same length. Use the `zip` function to combine these lists into a list of tuples and print the result.\n",
        "\n",
        "### Assignment 13: List Reversal\n",
        "\n",
        "Write a function that takes a list and returns a new list with the elements in reverse order. Print the original and reversed lists.\n",
        "\n",
        "### Assignment 14: List Rotation\n",
        "\n",
        "Write a function that rotates a list by n positions. Print the original and rotated lists.\n",
        "\n",
        "### Assignment 15: List Intersection\n",
        "\n",
        "Write a function that takes two lists and returns a new list containing only the elements that are present in both lists. Print the intersected list."
      ],
      "id": "Wpsf54h8ew9F"
    },
    {
      "cell_type": "code",
      "execution_count": null,
      "metadata": {
        "id": "isrBb6NDew9O",
        "colab": {
          "base_uri": "https://localhost:8080/"
        },
        "outputId": "712e681a-5c71-472e-c027-3a08545477d0"
      },
      "outputs": [
        {
          "output_type": "stream",
          "name": "stdout",
          "text": [
            "[1, 2, 3, 4, 5, 6, 7, 8, 9, 10, 11, 12, 13, 14, 15, 16, 17, 18, 19, 20]\n"
          ]
        }
      ],
      "source": [
        "# assignment 1\n",
        "ls = []\n",
        "for i in range(1,21):\n",
        "  ls.append(i)\n",
        "print(ls)"
      ],
      "id": "isrBb6NDew9O"
    },
    {
      "cell_type": "code",
      "source": [
        "# assignment 2\n",
        "print(f'First: {ls[0]} Middle: {ls[20//2]} Last: {ls[-1]}')"
      ],
      "metadata": {
        "colab": {
          "base_uri": "https://localhost:8080/"
        },
        "id": "GgEpTuJOfFn9",
        "outputId": "19a7c654-a96f-415e-b4cb-d876013b6bcb"
      },
      "id": "GgEpTuJOfFn9",
      "execution_count": null,
      "outputs": [
        {
          "output_type": "stream",
          "name": "stdout",
          "text": [
            "First: 1 Middle: 11 Last: 20\n"
          ]
        }
      ]
    },
    {
      "cell_type": "code",
      "source": [
        "# assignment 3\n",
        "print(ls[:5])\n",
        "print(ls[-5:])\n",
        "print(ls[5:16])"
      ],
      "metadata": {
        "colab": {
          "base_uri": "https://localhost:8080/"
        },
        "id": "GYqACvhNfimV",
        "outputId": "c649bef0-8201-46a9-9d19-24d4cc592b79"
      },
      "id": "GYqACvhNfimV",
      "execution_count": null,
      "outputs": [
        {
          "output_type": "stream",
          "name": "stdout",
          "text": [
            "[1, 2, 3, 4, 5]\n",
            "[16, 17, 18, 19, 20]\n",
            "[6, 7, 8, 9, 10, 11, 12, 13, 14, 15, 16]\n"
          ]
        }
      ]
    },
    {
      "cell_type": "code",
      "source": [
        "# assignment 4\n",
        "a = [i*i for i in range(1,11)]\n",
        "\n",
        "print(a)"
      ],
      "metadata": {
        "colab": {
          "base_uri": "https://localhost:8080/"
        },
        "id": "oVFtAyP6D88t",
        "outputId": "d3094aa3-8436-4203-9440-8dcfc22acd8e"
      },
      "id": "oVFtAyP6D88t",
      "execution_count": null,
      "outputs": [
        {
          "output_type": "stream",
          "name": "stdout",
          "text": [
            "[1, 4, 9, 16, 25, 36, 49, 64, 81, 100]\n"
          ]
        }
      ]
    },
    {
      "cell_type": "code",
      "source": [
        "# assignment 5\n",
        "ev = [i for i in ls if i%2==0]\n",
        "print(ev)"
      ],
      "metadata": {
        "colab": {
          "base_uri": "https://localhost:8080/"
        },
        "id": "mAZ-wK3xEdPy",
        "outputId": "b5439a93-f37d-432a-b11f-919e72c4103d"
      },
      "id": "mAZ-wK3xEdPy",
      "execution_count": null,
      "outputs": [
        {
          "output_type": "stream",
          "name": "stdout",
          "text": [
            "[2, 4, 6, 8, 10, 12, 14, 16, 18, 20]\n"
          ]
        }
      ]
    },
    {
      "cell_type": "code",
      "source": [
        "# assignment 6\n",
        "random_list = [1,2,4,1,3,6,2,5]\n",
        "random_list.sort()\n",
        "print(random_list)\n",
        "random_list.sort(reverse=True)\n",
        "print(random_list)\n",
        "random_list = list(set(random_list))\n",
        "print(random_list)\n"
      ],
      "metadata": {
        "colab": {
          "base_uri": "https://localhost:8080/"
        },
        "id": "_ckI1gI-FlXS",
        "outputId": "a930ec8f-e34a-4030-ffe0-df98534c6766"
      },
      "id": "_ckI1gI-FlXS",
      "execution_count": null,
      "outputs": [
        {
          "output_type": "stream",
          "name": "stdout",
          "text": [
            "[1, 1, 2, 2, 3, 4, 5, 6]\n",
            "[6, 5, 4, 3, 2, 2, 1, 1]\n",
            "[1, 2, 3, 4, 5, 6]\n"
          ]
        }
      ]
    },
    {
      "cell_type": "code",
      "source": [
        "# assignment 7\n",
        "matrix = [[1,2,3],[4,5,6],[7,8,9]]\n",
        "print(matrix)\n",
        "print(matrix[2][1])"
      ],
      "metadata": {
        "id": "dBNt2VPnGbnT",
        "colab": {
          "base_uri": "https://localhost:8080/"
        },
        "outputId": "8fcf68a6-eaac-4194-e544-a3a3e2cf7e0d"
      },
      "id": "dBNt2VPnGbnT",
      "execution_count": null,
      "outputs": [
        {
          "output_type": "stream",
          "name": "stdout",
          "text": [
            "[[1, 2, 3], [4, 5, 6], [7, 8, 9]]\n",
            "8\n"
          ]
        }
      ]
    },
    {
      "cell_type": "code",
      "source": [
        "# assignment 8\n",
        "stud = [{'name':'vamsi','score':88},\n",
        "        {'name':'mohan','score':40},\n",
        "        {'name':'ravi','score':60},\n",
        "        {'name':'sai','score':70}]\n",
        "x = sorted(stud, key=lambda a: a['score'],reverse=True)\n",
        "print(x)"
      ],
      "metadata": {
        "colab": {
          "base_uri": "https://localhost:8080/"
        },
        "id": "090CtSDs1gns",
        "outputId": "96b7d81d-f603-453c-b87b-20bcd37d432b"
      },
      "id": "090CtSDs1gns",
      "execution_count": null,
      "outputs": [
        {
          "output_type": "stream",
          "name": "stdout",
          "text": [
            "[{'name': 'vamsi', 'score': 88}, {'name': 'sai', 'score': 70}, {'name': 'ravi', 'score': 60}, {'name': 'mohan', 'score': 40}]\n"
          ]
        }
      ]
    },
    {
      "cell_type": "code",
      "source": [
        "# assignment 9\n",
        "def trans(mat):\n",
        "  tran = []\n",
        "  for i in range(3):\n",
        "    r = []\n",
        "    for j in range(3):\n",
        "      r.append(mat[j][i])\n",
        "    tran.append(r)\n",
        "  return tran\n",
        "\n",
        "mat = []\n",
        "for i in range(3):\n",
        "  row = []\n",
        "  for j in range(3):\n",
        "    a = int(input(\"Enter: \"))\n",
        "    row.append(a)\n",
        "  mat.append(row)\n",
        "for i in mat:\n",
        "  print(i)\n",
        "print('-'*5,'transpose','-'*5)\n",
        "transpose = trans(mat)\n",
        "for i in transpose:\n",
        "  print(i)"
      ],
      "metadata": {
        "colab": {
          "base_uri": "https://localhost:8080/"
        },
        "id": "LhnTZ_F5RwnZ",
        "outputId": "bc0a3f19-6bb6-4931-9dc6-14b83a4e816f"
      },
      "id": "LhnTZ_F5RwnZ",
      "execution_count": 11,
      "outputs": [
        {
          "output_type": "stream",
          "name": "stdout",
          "text": [
            "Enter: 1\n",
            "Enter: 2\n",
            "Enter: 3\n",
            "Enter: 4\n",
            "Enter: 5\n",
            "Enter: 6\n",
            "Enter: 7\n",
            "Enter: 8\n",
            "Enter: 9\n",
            "[1, 2, 3]\n",
            "[4, 5, 6]\n",
            "[7, 8, 9]\n",
            "----- transpose -----\n",
            "[1, 4, 7]\n",
            "[2, 5, 8]\n",
            "[3, 6, 9]\n"
          ]
        }
      ]
    },
    {
      "cell_type": "code",
      "source": [
        "from re import S\n",
        "# assignment 10\n",
        "nested = [[1,2,3],[4,5,6],[7,8]]\n",
        "def single(nested):\n",
        "  sgl_ls = []\n",
        "  for i in nested:\n",
        "    sgl_ls.extend(i)\n",
        "  return sgl_ls\n",
        "print(single(nested))\n"
      ],
      "metadata": {
        "colab": {
          "base_uri": "https://localhost:8080/"
        },
        "id": "x5MeEJSvOKZ4",
        "outputId": "13ac2bcf-4a57-4ebe-8ee8-ebc7654ae53e"
      },
      "id": "x5MeEJSvOKZ4",
      "execution_count": 12,
      "outputs": [
        {
          "output_type": "stream",
          "name": "stdout",
          "text": [
            "[1, 2, 3, 4, 5, 6, 7, 8]\n"
          ]
        }
      ]
    },
    {
      "cell_type": "code",
      "source": [
        "# assignment 11\n",
        "ass11 = [1,2,3,4,5,6,7,8,9,10]\n",
        "ass11.remove(ass11[2])\n",
        "ass11.remove(ass11[4])\n",
        "ass11.remove(ass11[6])\n",
        "ass11.insert(5,99)\n",
        "print(ass11)"
      ],
      "metadata": {
        "colab": {
          "base_uri": "https://localhost:8080/"
        },
        "id": "O7oexkS6UTIH",
        "outputId": "9f82caa0-f1cb-41d4-9b58-7828d10ac13a"
      },
      "id": "O7oexkS6UTIH",
      "execution_count": 13,
      "outputs": [
        {
          "output_type": "stream",
          "name": "stdout",
          "text": [
            "[1, 2, 4, 5, 7, 99, 8, 10]\n"
          ]
        }
      ]
    },
    {
      "cell_type": "code",
      "source": [
        "# assignment 12\n",
        "l1 = [1,2,3,4]\n",
        "l2 = [5,6,7,8]\n",
        "com = zip(l1,l2)\n",
        "print(list(com))"
      ],
      "metadata": {
        "colab": {
          "base_uri": "https://localhost:8080/"
        },
        "id": "NSoDi_jRU7Ui",
        "outputId": "d2453095-9c64-47da-a26c-5d4e1d60ff52"
      },
      "id": "NSoDi_jRU7Ui",
      "execution_count": 15,
      "outputs": [
        {
          "output_type": "stream",
          "name": "stdout",
          "text": [
            "[(1, 5), (2, 6), (3, 7), (4, 8)]\n"
          ]
        }
      ]
    },
    {
      "cell_type": "code",
      "source": [
        "# assignment 13\n",
        "ass13 = list(range(1,11))\n",
        "def rev(ass13):\n",
        "  reversed = ass13[::-1]\n",
        "  print(reversed)\n",
        "rev(ass13)"
      ],
      "metadata": {
        "colab": {
          "base_uri": "https://localhost:8080/"
        },
        "id": "iZ1nYdpaaUvL",
        "outputId": "9e289615-7e65-44eb-b0db-b9a12ecee4be"
      },
      "id": "iZ1nYdpaaUvL",
      "execution_count": 19,
      "outputs": [
        {
          "output_type": "stream",
          "name": "stdout",
          "text": [
            "[10, 9, 8, 7, 6, 5, 4, 3, 2, 1]\n"
          ]
        }
      ]
    },
    {
      "cell_type": "code",
      "source": [
        "# assignment 14\n",
        "n = int(input('Enter: '))\n",
        "rotated = ass13[n:] + ass13[:n]\n",
        "print(rotated)"
      ],
      "metadata": {
        "colab": {
          "base_uri": "https://localhost:8080/"
        },
        "id": "24I1HRPzbOgo",
        "outputId": "bc81d9ba-3dbb-4066-c8bc-7cbf26149a71"
      },
      "id": "24I1HRPzbOgo",
      "execution_count": 22,
      "outputs": [
        {
          "output_type": "stream",
          "name": "stdout",
          "text": [
            "Enter: 2\n",
            "[3, 4, 5, 6, 7, 8, 9, 10, 1, 2]\n"
          ]
        }
      ]
    },
    {
      "cell_type": "code",
      "source": [
        "# assignment 15\n",
        "list1 = [1,2,3,4,7]\n",
        "list2 = [2,4,7,6,5]\n",
        "def intersect(list1,list2):\n",
        "  inter = list(set(list1)&set(list2))\n",
        "  return inter\n",
        "print(intersect(list1,list2))"
      ],
      "metadata": {
        "colab": {
          "base_uri": "https://localhost:8080/"
        },
        "id": "c7Zi0v5vcVdU",
        "outputId": "e154ba3c-be29-4e20-fb6e-8f89c85e0989"
      },
      "id": "c7Zi0v5vcVdU",
      "execution_count": 25,
      "outputs": [
        {
          "output_type": "stream",
          "name": "stdout",
          "text": [
            "[2, 4, 7]\n"
          ]
        }
      ]
    }
  ],
  "metadata": {
    "kernelspec": {
      "display_name": "Python 3",
      "language": "python",
      "name": "python3"
    },
    "language_info": {
      "codemirror_mode": {
        "name": "ipython",
        "version": 3
      },
      "file_extension": ".py",
      "mimetype": "text/x-python",
      "name": "python",
      "nbconvert_exporter": "python",
      "pygments_lexer": "ipython3",
      "version": "3.9.7"
    },
    "colab": {
      "provenance": []
    }
  },
  "nbformat": 4,
  "nbformat_minor": 5
}
