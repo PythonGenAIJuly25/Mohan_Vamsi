{
 "cells": [
  {
   "cell_type": "markdown",
   "metadata": {},
   "source": [
    "# Module 3: Data Structures Assignments\n",
    "## Lesson 3.3: Sets\n",
    "### Assignment 1: Creating and Accessing Sets\n",
    "\n",
    "Create a set with the first 10 positive integers. Print the set.\n",
    "\n",
    "### Assignment 2: Adding and Removing Elements\n",
    "\n",
    "Add the number 11 to the set created in Assignment 1. Then remove the number 1 from the set. Print the modified set.\n",
    "\n",
    "### Assignment 3: Set Operations\n",
    "\n",
    "Create two sets: one with the first 5 positive integers and another with the first 5 even integers. Perform and print the results of union, intersection, difference, and symmetric difference operations on these sets.\n",
    "\n",
    "### Assignment 4: Set Comprehensions\n",
    "\n",
    "Create a new set containing the squares of the first 10 positive integers using a set comprehension. Print the new set.\n",
    "\n",
    "### Assignment 5: Filtering Sets\n",
    "\n",
    "Create a new set containing only the even numbers from the set created in Assignment 1 using a set comprehension. Print the new set.\n",
    "\n",
    "### Assignment 6: Set Methods\n",
    "\n",
    "Create a set with duplicate elements and remove the duplicates using set methods. Print the modified set.\n",
    "\n",
    "### Assignment 7: Subsets and Supersets\n",
    "\n",
    "Create two sets: one with the first 5 positive integers and another with the first 3 positive integers. Check if the second set is a subset of the first set and if the first set is a superset of the second set. Print the results.\n",
    "\n",
    "### Assignment 8: Frozenset\n",
    "\n",
    "Create a frozenset with the first 5 positive integers. Print the frozenset.\n",
    "\n",
    "### Assignment 9: Set and List Conversion\n",
    "\n",
    "Create a set with the first 5 positive integers. Convert it to a list, append the number 6, and convert it back to a set. Print the resulting set.\n",
    "\n",
    "### Assignment 10: Set and Dictionary\n",
    "\n",
    "Create a dictionary with set keys and integer values. Print the dictionary.\n",
    "\n",
    "### Assignment 11: Iterating Over Sets\n",
    "\n",
    "Create a set and iterate over the elements, printing each element.\n",
    "\n",
    "### Assignment 12: Removing Elements from Sets\n",
    "\n",
    "Create a set and remove elements from it until it is empty. Print the set after each removal.\n",
    "\n",
    "### Assignment 13: Set Symmetric Difference Update\n",
    "\n",
    "Create two sets and update the first set with the symmetric difference of the two sets. Print the modified first set.\n",
    "\n",
    "### Assignment 14: Set Membership Testing\n",
    "\n",
    "Create a set and test if certain elements are present in the set. Print the results.\n",
    "\n",
    "### Assignment 15: Set of Tuples\n",
    "\n",
    "Create a set containing tuples, where each tuple contains two elements. Print the set."
   ]
  },
  {
   "cell_type": "code",
   "execution_count": 1,
   "metadata": {},
   "outputs": [
    {
     "name": "stdout",
     "output_type": "stream",
     "text": [
      "{1, 2, 3, 4, 5, 6, 7, 8, 9, 10}\n"
     ]
    }
   ],
   "source": [
    "# assignment 1\n",
    "ass1 = set(range(1,11))\n",
    "print(ass1)"
   ]
  },
  {
   "cell_type": "code",
   "execution_count": 2,
   "id": "b77fa0ee",
   "metadata": {},
   "outputs": [
    {
     "name": "stdout",
     "output_type": "stream",
     "text": [
      "{2, 3, 4, 5, 6, 7, 8, 9, 10, 11}\n"
     ]
    }
   ],
   "source": [
    "# assignment 2\n",
    "ass1.add(11)\n",
    "ass1.remove(1)\n",
    "print(ass1)"
   ]
  },
  {
   "cell_type": "code",
   "execution_count": 7,
   "id": "e733385d",
   "metadata": {},
   "outputs": [
    {
     "name": "stdout",
     "output_type": "stream",
     "text": [
      "{2, 4}\n",
      "{1, 2, 3, 4, 5, 6, 8, 10}\n",
      "{1, 3, 5}\n",
      "{1, 3, 5, 6, 8, 10}\n"
     ]
    }
   ],
   "source": [
    "# assignment 3\n",
    "set1 = {1,2,3,4,5}\n",
    "set2 = {2,4,6,8,10}\n",
    "print(set1&set2)\n",
    "print(set1|set2)\n",
    "print(set1-set2)\n",
    "print(set1^set2)"
   ]
  },
  {
   "cell_type": "code",
   "execution_count": 10,
   "id": "1a612546",
   "metadata": {},
   "outputs": [
    {
     "name": "stdout",
     "output_type": "stream",
     "text": [
      "{64, 1, 4, 36, 100, 9, 16, 49, 81, 25}\n"
     ]
    }
   ],
   "source": [
    "# assignment 4\n",
    "ass4 = {i**2 for i in range(1,11)}\n",
    "print(ass4)"
   ]
  },
  {
   "cell_type": "code",
   "execution_count": 11,
   "id": "c7577e9a",
   "metadata": {},
   "outputs": [
    {
     "name": "stdout",
     "output_type": "stream",
     "text": [
      "{2, 4, 6, 8, 10}\n"
     ]
    }
   ],
   "source": [
    "\n",
    "# assignment 5\n",
    "ass5 = {i for i in ass1 if i%2==0}\n",
    "print(ass5)"
   ]
  },
  {
   "cell_type": "code",
   "execution_count": 12,
   "id": "bf1f5f4e",
   "metadata": {},
   "outputs": [
    {
     "name": "stdout",
     "output_type": "stream",
     "text": [
      "{1, 2, 3, 4}\n"
     ]
    }
   ],
   "source": [
    "# assignment 6\n",
    "ass6 = {1,2,1,4,4,4,3}\n",
    "print(ass6)"
   ]
  },
  {
   "cell_type": "code",
   "execution_count": 13,
   "id": "5c28afb8",
   "metadata": {},
   "outputs": [
    {
     "name": "stdout",
     "output_type": "stream",
     "text": [
      "False\n",
      "True\n"
     ]
    }
   ],
   "source": [
    "# assignment 7\n",
    "s1 = {1,2,3,4,5}\n",
    "s2 = {1,2,3}\n",
    "print(s1.issubset(s2))\n",
    "print(s1.issuperset(s2))"
   ]
  },
  {
   "cell_type": "code",
   "execution_count": 14,
   "id": "f4405125",
   "metadata": {},
   "outputs": [
    {
     "name": "stdout",
     "output_type": "stream",
     "text": [
      "frozenset({1, 2, 3, 4})\n"
     ]
    }
   ],
   "source": [
    "# assignment 8\n",
    "ls = [1,2,3,4]\n",
    "froz = frozenset(ls)\n",
    "print(froz)"
   ]
  },
  {
   "cell_type": "code",
   "execution_count": 15,
   "id": "9c4d7141",
   "metadata": {},
   "outputs": [
    {
     "name": "stdout",
     "output_type": "stream",
     "text": [
      "{1, 2, 3, 4, 5, 6}\n"
     ]
    }
   ],
   "source": [
    "# assignment 9\n",
    "ass9 = {1,2,3,4,5}\n",
    "ls9 = list(ass9)\n",
    "ls9.append(6)\n",
    "ass9 = set(ls9)\n",
    "print(ass9)"
   ]
  },
  {
   "cell_type": "code",
   "execution_count": 2,
   "id": "6fc48a08",
   "metadata": {},
   "outputs": [
    {
     "name": "stdout",
     "output_type": "stream",
     "text": [
      "frozenset({1, 2, 3})  :  10\n",
      "frozenset({4, 5, 6})  :  20\n",
      "frozenset({8, 9, 7})  :  30\n"
     ]
    }
   ],
   "source": [
    "# assignment 10\n",
    "fset1 = frozenset({1,2,3})\n",
    "fset2 = frozenset({4,5,6})\n",
    "fset3 = frozenset({7,8,9})\n",
    "ass10 = {fset1:10,\n",
    "         fset2:20,\n",
    "         fset3:30}\n",
    "for i,j in ass10.items():\n",
    "  print(i,' : ',j)"
   ]
  },
  {
   "cell_type": "code",
   "execution_count": 3,
   "id": "557ceb15",
   "metadata": {},
   "outputs": [
    {
     "name": "stdout",
     "output_type": "stream",
     "text": [
      "50\n",
      "20\n",
      "40\n",
      "10\n",
      "30\n"
     ]
    }
   ],
   "source": [
    "# assignment 11\n",
    "ass11 = {10,20,30,40,50}\n",
    "for i in ass11:\n",
    "    print(i)"
   ]
  },
  {
   "cell_type": "code",
   "execution_count": 4,
   "id": "e750085f",
   "metadata": {},
   "outputs": [
    {
     "name": "stdout",
     "output_type": "stream",
     "text": [
      "{40, 10, 20, 30}\n",
      "{10, 20, 30}\n",
      "{20, 30}\n",
      "{30}\n"
     ]
    }
   ],
   "source": [
    "# assignment 12\n",
    "ass12 = {10,20,30,40}\n",
    "while len(ass12)!=0:\n",
    "    print(ass12)\n",
    "    ass12.pop()"
   ]
  },
  {
   "cell_type": "code",
   "execution_count": 5,
   "id": "b96bcd0c",
   "metadata": {},
   "outputs": [
    {
     "name": "stdout",
     "output_type": "stream",
     "text": [
      "{1, 2, 6}\n"
     ]
    }
   ],
   "source": [
    "# assignment 13\n",
    "ass13s1 = {1,2,3,4,5}\n",
    "ass13s2 = {3,4,5,6}\n",
    "ass13s1.symmetric_difference_update(ass13s2)\n",
    "print(ass13s1)"
   ]
  },
  {
   "cell_type": "code",
   "execution_count": 7,
   "id": "225176b7",
   "metadata": {},
   "outputs": [
    {
     "name": "stdout",
     "output_type": "stream",
     "text": [
      "True\n",
      "False\n"
     ]
    }
   ],
   "source": [
    "# assignment 14\n",
    "ass14 = {1,2,3,4}\n",
    "print(1 in ass14)\n",
    "print(5 in ass14)\n"
   ]
  },
  {
   "cell_type": "code",
   "execution_count": 9,
   "id": "acc024e7",
   "metadata": {},
   "outputs": [
    {
     "name": "stdout",
     "output_type": "stream",
     "text": [
      "(1, 2)\n",
      "(3, 4)\n",
      "(5, 6)\n"
     ]
    }
   ],
   "source": [
    "# assignment 15\n",
    "ass15 = {(1,2),(3,4),(5,6)}\n",
    "for i in ass15:\n",
    "  print(i)"
   ]
  }
 ],
 "metadata": {
  "kernelspec": {
   "display_name": "base",
   "language": "python",
   "name": "python3"
  },
  "language_info": {
   "codemirror_mode": {
    "name": "ipython",
    "version": 3
   },
   "file_extension": ".py",
   "mimetype": "text/x-python",
   "name": "python",
   "nbconvert_exporter": "python",
   "pygments_lexer": "ipython3",
   "version": "3.13.5"
  }
 },
 "nbformat": 4,
 "nbformat_minor": 5
}
