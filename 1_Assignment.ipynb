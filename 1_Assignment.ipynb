{
  "cells": [
    {
      "cell_type": "markdown",
      "metadata": {
        "id": "0K6irgdBclNu"
      },
      "source": [
        "# Python Basics\n",
        "## Topics Covered:\n",
        "- Syntax and Semantics\n",
        "- Variables and Data Types\n",
        "- Basic Operators (Arithmetic, Comparison, Logical)\n"
      ]
    },
    {
      "cell_type": "markdown",
      "metadata": {
        "id": "qleiUAvkclNx"
      },
      "source": [
        "## 1. Syntax and Semantics\n",
        "\n",
        "**Question 1:** Write a Python program to print \"Hello, World!\"."
      ]
    },
    {
      "cell_type": "code",
      "execution_count": null,
      "metadata": {
        "id": "AfDeFIbcclNy",
        "colab": {
          "base_uri": "https://localhost:8080/"
        },
        "outputId": "1f0bfa85-99a9-4be2-91eb-0df372b49cd6"
      },
      "outputs": [
        {
          "output_type": "stream",
          "name": "stdout",
          "text": [
            "Hello, World!\n"
          ]
        }
      ],
      "source": [
        "# Your code here\n",
        "print(\"Hello, World!\")"
      ]
    },
    {
      "cell_type": "markdown",
      "metadata": {
        "id": "9-CnrUcbclNz"
      },
      "source": [
        "**Question 2:** Write a Python program that takes a user input and prints it."
      ]
    },
    {
      "cell_type": "code",
      "execution_count": null,
      "metadata": {
        "id": "-jB-vYFFclN0",
        "colab": {
          "base_uri": "https://localhost:8080/"
        },
        "outputId": "3559ffcc-fd46-4566-a225-1bbf79f2f625"
      },
      "outputs": [
        {
          "output_type": "stream",
          "name": "stdout",
          "text": [
            "Enter a message: 5\n",
            "You entered: 5\n"
          ]
        }
      ],
      "source": [
        "# Your code here\n",
        "user_input = input(\"Enter a message: \")\n",
        "print(\"You entered:\", user_input)"
      ]
    },
    {
      "cell_type": "markdown",
      "metadata": {
        "id": "o-36goZZclN0"
      },
      "source": [
        "**Question 3:** Write a Python program to check if a number is positive, negative, or zero."
      ]
    },
    {
      "cell_type": "code",
      "execution_count": null,
      "metadata": {
        "id": "4Cn5410aclN0",
        "colab": {
          "base_uri": "https://localhost:8080/"
        },
        "outputId": "b639b4ec-c867-43ab-97f9-6ae9b01e9405"
      },
      "outputs": [
        {
          "output_type": "stream",
          "name": "stdout",
          "text": [
            "Enter a number: 5\n",
            "Positive\n"
          ]
        }
      ],
      "source": [
        "# Your code here\n",
        "num = int(input(\"Enter a number: \"))\n",
        "if num>0:\n",
        "  print(\"Positive\")\n",
        "elif num<0:\n",
        "  print(\"Negative\")\n",
        "else:\n",
        "  print(\"Zero\")"
      ]
    },
    {
      "cell_type": "markdown",
      "metadata": {
        "id": "RZstdwVgclN0"
      },
      "source": [
        "**Question 4:** Write a Python program to find the largest of three numbers."
      ]
    },
    {
      "cell_type": "code",
      "execution_count": null,
      "metadata": {
        "id": "BDLSPFJxclN1",
        "colab": {
          "base_uri": "https://localhost:8080/"
        },
        "outputId": "daa0680c-66ee-4b52-c520-e08da6d127da"
      },
      "outputs": [
        {
          "output_type": "stream",
          "name": "stdout",
          "text": [
            "The largest number is: 11\n"
          ]
        }
      ],
      "source": [
        "# Your code here\n",
        "num1 = 10\n",
        "num2 = 3\n",
        "num3= 11\n",
        "largest = max(num1, num2, num3)\n",
        "print(\"The largest number is:\", largest)\n"
      ]
    },
    {
      "cell_type": "markdown",
      "metadata": {
        "id": "HMjOnNl1clN1"
      },
      "source": [
        "**Question 5:** Write a Python program to calculate the factorial of a number."
      ]
    },
    {
      "cell_type": "code",
      "execution_count": null,
      "metadata": {
        "id": "JI1kLKU1clN2",
        "colab": {
          "base_uri": "https://localhost:8080/"
        },
        "outputId": "41d87f8f-c24c-4fcc-da3c-a19736eb3b99"
      },
      "outputs": [
        {
          "output_type": "stream",
          "name": "stdout",
          "text": [
            "120\n"
          ]
        }
      ],
      "source": [
        "# Your code here\n",
        "def fac(n):\n",
        "  if n==0 or n==1:\n",
        "    return 1\n",
        "  return fac(n-1)*n\n",
        "\n",
        "print(fac(5))\n"
      ]
    },
    {
      "cell_type": "markdown",
      "metadata": {
        "id": "31uLr13zclN2"
      },
      "source": [
        "## 2. Variables and Data Types\n",
        "\n",
        "**Question 6:** Create variables of different data types: integer, float, string, and boolean. Print their values and types."
      ]
    },
    {
      "cell_type": "code",
      "execution_count": null,
      "metadata": {
        "id": "lrjtvl9eclN2",
        "colab": {
          "base_uri": "https://localhost:8080/"
        },
        "outputId": "f1ca20e0-327d-4811-b51a-437a1cebb82d"
      },
      "outputs": [
        {
          "output_type": "stream",
          "name": "stdout",
          "text": [
            "Integer: 42 Type: <class 'int'>\n",
            "Float: 3.14 Type: <class 'float'>\n",
            "String: Hello, World! Type: <class 'str'>\n",
            "Boolean: True Type: <class 'bool'>\n"
          ]
        }
      ],
      "source": [
        "# Your code here\n",
        "integer_var = 42\n",
        "float_var = 3.14\n",
        "string_var = \"Hello, World!\"\n",
        "boolean_var = True\n",
        "print(f\"Integer: {integer_var} Type: {type(integer_var)}\")\n",
        "print(f\"Float: {float_var} Type: {type(float_var)}\")\n",
        "print(f\"String: {string_var} Type: {type(string_var)}\")\n",
        "print(f\"Boolean: {boolean_var} Type: {type(boolean_var)}\")"
      ]
    },
    {
      "cell_type": "markdown",
      "metadata": {
        "id": "I8mIDAxEclN3"
      },
      "source": [
        "**Question 7:** Write a Python program to swap the values of two variables."
      ]
    },
    {
      "cell_type": "code",
      "execution_count": null,
      "metadata": {
        "id": "WxtOgFK4clN3",
        "colab": {
          "base_uri": "https://localhost:8080/"
        },
        "outputId": "e94a02a2-5049-4e7b-d1c9-ddae88516c33"
      },
      "outputs": [
        {
          "output_type": "stream",
          "name": "stdout",
          "text": [
            "After swapping:\n",
            "a = 20\n",
            "b = 10\n"
          ]
        }
      ],
      "source": [
        "# Your code here\n",
        "a = 10\n",
        "b = 20\n",
        "temp = a\n",
        "a = b\n",
        "b = temp\n",
        "print(\"After swapping:\")\n",
        "print(\"a =\", a)\n",
        "print(\"b =\", b)"
      ]
    },
    {
      "cell_type": "markdown",
      "metadata": {
        "id": "NXJi6hYfclN3"
      },
      "source": [
        "**Question 8:** Write a Python program to convert Celsius to Fahrenheit."
      ]
    },
    {
      "cell_type": "code",
      "execution_count": null,
      "metadata": {
        "id": "C1vanEapclN3",
        "colab": {
          "base_uri": "https://localhost:8080/"
        },
        "outputId": "fe19f2c4-601b-40b6-b243-a7f114219c63"
      },
      "outputs": [
        {
          "output_type": "stream",
          "name": "stdout",
          "text": [
            "Celsius: 30 | Fahrenheit: 86.0\n"
          ]
        }
      ],
      "source": [
        "# Your code here\n",
        "cel = 30\n",
        "far = (cel*9/5)+32\n",
        "print(f\"Celsius: {cel} | Fahrenheit: {far}\")"
      ]
    },
    {
      "cell_type": "markdown",
      "metadata": {
        "id": "cPtKn9TLclN3"
      },
      "source": [
        "**Question 9:** Write a Python program to concatenate two strings."
      ]
    },
    {
      "cell_type": "code",
      "execution_count": null,
      "metadata": {
        "id": "B8g0dlRkclN3",
        "colab": {
          "base_uri": "https://localhost:8080/"
        },
        "outputId": "61e45f43-3427-4098-fec2-19399c0dc4b0"
      },
      "outputs": [
        {
          "output_type": "stream",
          "name": "stdout",
          "text": [
            "MohanVamsi\n"
          ]
        }
      ],
      "source": [
        "# Your code here\n",
        "str1 = \"Mohan\"\n",
        "str2 = \"Vamsi\"\n",
        "print(str1+str2)"
      ]
    },
    {
      "cell_type": "markdown",
      "metadata": {
        "id": "Gc9ow6MLclN3"
      },
      "source": [
        "**Question 10:** Write a Python program to check if a variable is of a specific data type."
      ]
    },
    {
      "cell_type": "code",
      "execution_count": null,
      "metadata": {
        "id": "D5Whn8EqclN3",
        "colab": {
          "base_uri": "https://localhost:8080/"
        },
        "outputId": "4cfe0424-7037-491d-bfec-0d13994d49e8"
      },
      "outputs": [
        {
          "output_type": "stream",
          "name": "stdout",
          "text": [
            "False\n",
            "<class 'str'>\n",
            "True\n",
            "<class 'int'>\n",
            "True\n",
            "<class 'float'>\n",
            "True\n",
            "<class 'bool'>\n"
          ]
        }
      ],
      "source": [
        "# Your code here\n",
        "a = 'vamsi'\n",
        "b = 45\n",
        "c = 99.9\n",
        "d = True\n",
        "print(type(a)==str)\n",
        "print(type(a))\n",
        "print(type(b)==int)\n",
        "print(type(b))\n",
        "print(type(c)==float)\n",
        "print(type(c))\n",
        "print(type(d)==bool)\n",
        "print(type(d))"
      ]
    },
    {
      "cell_type": "markdown",
      "metadata": {
        "id": "aVUBunFyclN4"
      },
      "source": [
        "## 3. Basic Operators (Arithmetic, Comparison, Logical)\n",
        "\n",
        "**Question 11:** Write a Python program to perform arithmetic operations: addition, subtraction, multiplication, and division."
      ]
    },
    {
      "cell_type": "code",
      "execution_count": null,
      "metadata": {
        "id": "Mjas2AxPclN4",
        "colab": {
          "base_uri": "https://localhost:8080/"
        },
        "outputId": "bebaa95d-6591-4a7d-c02e-07d39977a082"
      },
      "outputs": [
        {
          "output_type": "stream",
          "name": "stdout",
          "text": [
            "Addition: 15\n",
            "Subtraction: 5\n",
            "Multiplication: 50\n",
            "Division: 2.0\n"
          ]
        }
      ],
      "source": [
        "# Your code here\n",
        "a = 10\n",
        "b = 5\n",
        "print(f\"Addition: {a+b}\")\n",
        "print(f\"Subtraction: {a-b}\")\n",
        "print(f\"Multiplication: {a*b}\")\n",
        "print(f\"Division: {a/b}\")"
      ]
    },
    {
      "cell_type": "markdown",
      "metadata": {
        "id": "hh5W5SMfclN4"
      },
      "source": [
        "**Question 12:** Write a Python program to demonstrate comparison operators: equal to, not equal to, greater than, less than."
      ]
    },
    {
      "cell_type": "code",
      "execution_count": null,
      "metadata": {
        "id": "hs86-FyBclN4",
        "colab": {
          "base_uri": "https://localhost:8080/"
        },
        "outputId": "2275182f-da36-426e-a1d2-ede18faca15b"
      },
      "outputs": [
        {
          "output_type": "stream",
          "name": "stdout",
          "text": [
            "Equal to: False\n",
            "Not equal to: True\n",
            "Greater than: True\n",
            "Less than: False\n"
          ]
        }
      ],
      "source": [
        "# Your code here\n",
        "a = 10\n",
        "b = 5\n",
        "print(f\"Equal to: {a==b}\")\n",
        "print(f\"Not equal to: {a!=b}\")\n",
        "print(f\"Greater than: {a>b}\")\n",
        "print(f\"Less than: {a<b}\")"
      ]
    },
    {
      "cell_type": "markdown",
      "metadata": {
        "id": "aYcnK_Z9clN5"
      },
      "source": [
        "**Question 13:** Write a Python program to demonstrate logical operators: and, or, not."
      ]
    },
    {
      "cell_type": "code",
      "execution_count": null,
      "metadata": {
        "id": "WBYyaSHwclN5",
        "colab": {
          "base_uri": "https://localhost:8080/"
        },
        "outputId": "c9fccee6-e0a3-4fa0-d9a4-28a9079a1343"
      },
      "outputs": [
        {
          "output_type": "stream",
          "name": "stdout",
          "text": [
            "False\n",
            "True\n",
            "False\n"
          ]
        }
      ],
      "source": [
        "# Your code here\n",
        "print(True and False)\n",
        "print(True or False)\n",
        "print(not True)"
      ]
    },
    {
      "cell_type": "markdown",
      "metadata": {
        "id": "d7j0w4R2clN5"
      },
      "source": [
        "**Question 14:** Write a Python program to calculate the square of a number."
      ]
    },
    {
      "cell_type": "code",
      "execution_count": null,
      "metadata": {
        "id": "0KO8YKJcclN5",
        "colab": {
          "base_uri": "https://localhost:8080/"
        },
        "outputId": "dda5fc6c-1f9e-48c9-e80b-8525ff325049"
      },
      "outputs": [
        {
          "output_type": "stream",
          "name": "stdout",
          "text": [
            "100\n"
          ]
        }
      ],
      "source": [
        "# Your code here\n",
        "a = 10\n",
        "print(a**2)"
      ]
    },
    {
      "cell_type": "markdown",
      "metadata": {
        "id": "h5Qw55cHclN5"
      },
      "source": [
        "**Question 15:** Write a Python program to check if a number is even or odd."
      ]
    },
    {
      "cell_type": "code",
      "execution_count": null,
      "metadata": {
        "id": "RMwuVP7zclN5",
        "colab": {
          "base_uri": "https://localhost:8080/"
        },
        "outputId": "412b0464-cea2-4ef4-eabb-8c46e938b9c9"
      },
      "outputs": [
        {
          "output_type": "stream",
          "name": "stdout",
          "text": [
            "Even\n"
          ]
        }
      ],
      "source": [
        "# Your code here\n",
        "a = 10\n",
        "if a%2==0:\n",
        "  print(\"Even\")\n",
        "else:\n",
        "  print(\"Odd\")"
      ]
    },
    {
      "cell_type": "markdown",
      "metadata": {
        "id": "4n2I0tJVclN5"
      },
      "source": [
        "**Question 16:** Write a Python program to find the sum of the first n natural numbers."
      ]
    },
    {
      "cell_type": "code",
      "execution_count": null,
      "metadata": {
        "id": "ZoRf54xvclN5",
        "colab": {
          "base_uri": "https://localhost:8080/"
        },
        "outputId": "1859c1ed-45d0-4afe-8038-d54eed7b9356"
      },
      "outputs": [
        {
          "output_type": "stream",
          "name": "stdout",
          "text": [
            "Enter a number: 10\n",
            "55\n",
            "55\n"
          ]
        }
      ],
      "source": [
        "# Your code here\n",
        "a = int(input(\"Enter a number: \"))\n",
        "sum = 0\n",
        "for i in range(1, a+1):\n",
        "  sum+=i\n",
        "print(sum)\n",
        "print(int(a*(a+1)/2))"
      ]
    },
    {
      "cell_type": "markdown",
      "metadata": {
        "id": "9q8pI5QeclN5"
      },
      "source": [
        "**Question 17:** Write a Python program to check if a year is a leap year."
      ]
    },
    {
      "cell_type": "code",
      "execution_count": null,
      "metadata": {
        "id": "mN4HLdXwclN5",
        "colab": {
          "base_uri": "https://localhost:8080/"
        },
        "outputId": "5532209e-d788-4367-f935-c61138a1599e"
      },
      "outputs": [
        {
          "output_type": "stream",
          "name": "stdout",
          "text": [
            "Enter a year: 2024\n",
            "Leap year\n"
          ]
        }
      ],
      "source": [
        "# Your code here\n",
        "yr = int(input(\"Enter a year: \"))\n",
        "if(yr%4==0):\n",
        "  if(yr%100==0):\n",
        "    if(yr%400==0):\n",
        "      print(\"Leap year\")\n",
        "    else:\n",
        "      print(\"Not a leap year\")\n",
        "  else:\n",
        "    print(\"Leap year\")\n",
        "else:\n",
        "  print(\"Not a leap year\")"
      ]
    },
    {
      "cell_type": "markdown",
      "metadata": {
        "id": "ik9umRz1clN6"
      },
      "source": [
        "**Question 18:** Write a Python program to reverse a string."
      ]
    },
    {
      "cell_type": "code",
      "execution_count": null,
      "metadata": {
        "id": "gVHXj6uaclN6",
        "colab": {
          "base_uri": "https://localhost:8080/"
        },
        "outputId": "7c7ebe8f-e471-4077-8aad-9ab58e9449a1"
      },
      "outputs": [
        {
          "output_type": "stream",
          "name": "stdout",
          "text": [
            "nahom\n"
          ]
        }
      ],
      "source": [
        "# Your code here\n",
        "str = \"Mohan\"\n",
        "print((str[::-1]).lower())\n"
      ]
    },
    {
      "cell_type": "markdown",
      "metadata": {
        "id": "r9dOevtHclN6"
      },
      "source": [
        "**Question 19:** Write a Python program to check if a string is a palindrome."
      ]
    },
    {
      "cell_type": "code",
      "execution_count": null,
      "metadata": {
        "id": "N1Mj7GjtclN6",
        "colab": {
          "base_uri": "https://localhost:8080/"
        },
        "outputId": "3efbda1a-da5d-4745-b01f-9616629ce265"
      },
      "outputs": [
        {
          "output_type": "stream",
          "name": "stdout",
          "text": [
            "Palindrome\n"
          ]
        }
      ],
      "source": [
        "# Your code here\n",
        "str = \"Madam\"\n",
        "if(str.lower()==str[::-1].lower()):\n",
        "  print(\"Palindrome\")\n",
        "else:\n",
        "  print(\"Not a palindrome\")"
      ]
    },
    {
      "cell_type": "markdown",
      "metadata": {
        "id": "lhN4lMtuclOF"
      },
      "source": [
        "**Question 20:** Write a Python program to sort a list of numbers in ascending order."
      ]
    },
    {
      "cell_type": "code",
      "execution_count": null,
      "metadata": {
        "id": "SjRJunG4clOF",
        "colab": {
          "base_uri": "https://localhost:8080/"
        },
        "outputId": "072810cb-2785-449f-d181-2443af1e12c8"
      },
      "outputs": [
        {
          "output_type": "stream",
          "name": "stdout",
          "text": [
            "[2, 2, 3, 4, 5, 10, 22]\n"
          ]
        }
      ],
      "source": [
        "# Your code here\n",
        "l = [10,2,4,5,2,3,22]\n",
        "l.sort()\n",
        "print(l)"
      ]
    },
    {
      "cell_type": "code",
      "source": [
        "for i in range(5):\n",
        "  for j in range(i):\n",
        "    print(i, end=' ')\n",
        "  print('')"
      ],
      "metadata": {
        "colab": {
          "base_uri": "https://localhost:8080/"
        },
        "id": "Khp0XX3J533T",
        "outputId": "1a6727be-d854-4157-b98d-0f53ba35a542"
      },
      "execution_count": null,
      "outputs": [
        {
          "output_type": "stream",
          "name": "stdout",
          "text": [
            "\n",
            "1 \n",
            "2 2 \n",
            "3 3 3 \n",
            "4 4 4 4 \n"
          ]
        }
      ]
    },
    {
      "cell_type": "code",
      "source": [
        "for i in range(1,5+1):\n",
        "  for j in range(1,i+1):\n",
        "    print(j, end=' ')\n",
        "  print('')"
      ],
      "metadata": {
        "colab": {
          "base_uri": "https://localhost:8080/"
        },
        "id": "RltDM_Io6H2i",
        "outputId": "ee039040-6a48-48ff-9c2f-d3b49a4a5210"
      },
      "execution_count": null,
      "outputs": [
        {
          "output_type": "stream",
          "name": "stdout",
          "text": [
            "1 \n",
            "1 2 \n",
            "1 2 3 \n",
            "1 2 3 4 \n",
            "1 2 3 4 5 \n"
          ]
        }
      ]
    },
    {
      "cell_type": "code",
      "source": [
        "b=0\n",
        "for i in range(5,0,-1):\n",
        "  b += 1\n",
        "  for j in range(1,i+1):\n",
        "    print(b, end=' ')\n",
        "  print('')"
      ],
      "metadata": {
        "colab": {
          "base_uri": "https://localhost:8080/"
        },
        "id": "W5JV_wvc6muy",
        "outputId": "6128a6b7-9538-42ce-9ba5-9ce51b490bbb"
      },
      "execution_count": null,
      "outputs": [
        {
          "output_type": "stream",
          "name": "stdout",
          "text": [
            "1 1 1 1 1 \n",
            "2 2 2 2 \n",
            "3 3 3 \n",
            "4 4 \n",
            "5 \n"
          ]
        }
      ]
    },
    {
      "cell_type": "code",
      "source": [
        "for i in range(5,0,-1):\n",
        "  for j in range(i):\n",
        "    print(5, end=' ')\n",
        "  print('')"
      ],
      "metadata": {
        "colab": {
          "base_uri": "https://localhost:8080/"
        },
        "id": "usOAWsNc7dqd",
        "outputId": "a201a8ae-5908-4d41-acfd-101f219554bd"
      },
      "execution_count": null,
      "outputs": [
        {
          "output_type": "stream",
          "name": "stdout",
          "text": [
            "5 5 5 5 5 \n",
            "5 5 5 5 \n",
            "5 5 5 \n",
            "5 5 \n",
            "5 \n"
          ]
        }
      ]
    }
  ],
  "metadata": {
    "kernelspec": {
      "display_name": "Python 3",
      "language": "python",
      "name": "python3"
    },
    "language_info": {
      "codemirror_mode": {
        "name": "ipython",
        "version": 3
      },
      "file_extension": ".py",
      "mimetype": "text/x-python",
      "name": "python",
      "nbconvert_exporter": "python",
      "pygments_lexer": "ipython3",
      "version": "3.8.5"
    },
    "colab": {
      "provenance": []
    }
  },
  "nbformat": 4,
  "nbformat_minor": 0
}