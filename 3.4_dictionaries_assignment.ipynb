{
  "cells": [
    {
      "cell_type": "markdown",
      "metadata": {
        "id": "dQYzNyi3x-7a"
      },
      "source": [
        "# Module 3: Data Structures Assignments\n",
        "## Lesson 3.4: Dictionaries\n",
        "### Assignment 1: Creating and Accessing Dictionaries\n",
        "\n",
        "Create a dictionary with the first 10 positive integers as keys and their squares as values. Print the dictionary.\n",
        "\n",
        "### Assignment 2: Accessing Dictionary Elements\n",
        "\n",
        "Print the value of the key 5 and the keys of the dictionary created in Assignment 1.\n",
        "\n",
        "### Assignment 3: Dictionary Methods\n",
        "\n",
        "Add a new key-value pair (11, 121) to the dictionary created in Assignment 1 and then remove the key-value pair with key 1. Print the modified dictionary.\n",
        "\n",
        "### Assignment 4: Iterating Over Dictionaries\n",
        "\n",
        "Iterate over the dictionary created in Assignment 1 and print each key-value pair.\n",
        "\n",
        "### Assignment 5: Dictionary Comprehensions\n",
        "\n",
        "Create a new dictionary containing the cubes of the first 10 positive integers using a dictionary comprehension. Print the new dictionary.\n",
        "\n",
        "### Assignment 6: Merging Dictionaries\n",
        "\n",
        "Create two dictionaries: one with keys as the first 5 positive integers and values as their squares, and another with keys as the next 5 positive integers and values as their squares. Merge these dictionaries into a single dictionary and print it.\n",
        "\n",
        "### Assignment 7: Nested Dictionaries\n",
        "\n",
        "Create a nested dictionary representing a student with keys 'name', 'age', 'grades', where 'grades' is another dictionary with keys 'math', 'science', and 'english'. Print the nested dictionary.\n",
        "\n",
        "### Assignment 8: Dictionary of Lists\n",
        "\n",
        "Create a dictionary where the keys are the first 5 positive integers and the values are lists containing the first 5 multiples of the key. Print the dictionary.\n",
        "\n",
        "### Assignment 9: Dictionary of Tuples\n",
        "\n",
        "Create a dictionary where the keys are the first 5 positive integers and the values are tuples containing the key and its square. Print the dictionary.\n",
        "\n",
        "### Assignment 10: Dictionary and List Conversion\n",
        "\n",
        "Create a dictionary with the first 5 positive integers as keys and their squares as values. Convert the dictionary to a list of tuples and print it.\n",
        "\n",
        "### Assignment 11: Dictionary Filtering\n",
        "\n",
        "Create a dictionary with the first 10 positive integers as keys and their squares as values. Create a new dictionary containing only the key-value pairs where the key is even. Print the new dictionary.\n",
        "\n",
        "### Assignment 12: Dictionary Key and Value Transformation\n",
        "\n",
        "Create a dictionary with the first 5 positive integers as keys and their squares as values. Create a new dictionary with keys and values swapped. Print the new dictionary.\n",
        "\n",
        "### Assignment 13: Default Dictionary\n",
        "\n",
        "Create a default dictionary where each key has a default value of an empty list. Add some elements to the lists and print the dictionary.\n",
        "\n",
        "### Assignment 14: Counting with Dictionaries\n",
        "\n",
        "Write a function that takes a string and returns a dictionary with the count of each character in the string. Print the dictionary.\n",
        "\n",
        "### Assignment 15: Dictionary and JSON\n",
        "\n",
        "Create a dictionary representing a book with keys 'title', 'author', 'year', and 'genre'. Convert the dictionary to a JSON string and print it."
      ],
      "id": "dQYzNyi3x-7a"
    },
    {
      "cell_type": "code",
      "execution_count": 1,
      "metadata": {
        "colab": {
          "base_uri": "https://localhost:8080/"
        },
        "id": "wVlrFNG8x-7d",
        "outputId": "6f4d4543-8715-47e9-bafc-bd9d9b3d7b80"
      },
      "outputs": [
        {
          "output_type": "stream",
          "name": "stdout",
          "text": [
            "{1: 1, 2: 4, 3: 9, 4: 16, 5: 25, 6: 36, 7: 49, 8: 64, 9: 81, 10: 100}\n"
          ]
        }
      ],
      "source": [
        "# assignment 1\n",
        "squares = {i: i**2 for i in range(1, 11)}\n",
        "print(squares)"
      ],
      "id": "wVlrFNG8x-7d"
    },
    {
      "cell_type": "code",
      "source": [
        "# assignment 2\n",
        "print(squares[5])\n",
        "print(squares.keys())"
      ],
      "metadata": {
        "colab": {
          "base_uri": "https://localhost:8080/"
        },
        "id": "fnFv4XWQyDcP",
        "outputId": "859a84d3-dff8-43bb-ea63-a4b08e2ff702"
      },
      "id": "fnFv4XWQyDcP",
      "execution_count": 2,
      "outputs": [
        {
          "output_type": "stream",
          "name": "stdout",
          "text": [
            "25\n",
            "dict_keys([1, 2, 3, 4, 5, 6, 7, 8, 9, 10])\n"
          ]
        }
      ]
    },
    {
      "cell_type": "code",
      "source": [
        "# assignment 3\n",
        "squares[11] = 121\n",
        "del squares[1]\n",
        "print(squares)"
      ],
      "metadata": {
        "colab": {
          "base_uri": "https://localhost:8080/"
        },
        "id": "LpF673iHyHC3",
        "outputId": "1518e4c1-9b83-4cf2-eb85-1a5ec518e6bd"
      },
      "id": "LpF673iHyHC3",
      "execution_count": 4,
      "outputs": [
        {
          "output_type": "stream",
          "name": "stdout",
          "text": [
            "{2: 4, 3: 9, 4: 16, 5: 25, 6: 36, 7: 49, 8: 64, 9: 81, 10: 100, 11: 121}\n"
          ]
        }
      ]
    },
    {
      "cell_type": "code",
      "source": [
        "# assignment 4\n",
        "for key, value in squares.items():\n",
        "    print(key, value)\n",
        ""
      ],
      "metadata": {
        "colab": {
          "base_uri": "https://localhost:8080/"
        },
        "id": "i6BjuTBIyLTy",
        "outputId": "e4b84428-90ff-42f8-cddb-2fe392f87cf2"
      },
      "id": "i6BjuTBIyLTy",
      "execution_count": 5,
      "outputs": [
        {
          "output_type": "stream",
          "name": "stdout",
          "text": [
            "2 4\n",
            "3 9\n",
            "4 16\n",
            "5 25\n",
            "6 36\n",
            "7 49\n",
            "8 64\n",
            "9 81\n",
            "10 100\n",
            "11 121\n"
          ]
        }
      ]
    },
    {
      "cell_type": "code",
      "source": [
        "# assignment 5\n",
        "ass5 = {i: i**3 for i in range(1, 11)}\n",
        "print(ass5)"
      ],
      "metadata": {
        "colab": {
          "base_uri": "https://localhost:8080/"
        },
        "id": "W7DKKSpYysDF",
        "outputId": "0044cd5f-5d70-4fc2-a546-467052835b2a"
      },
      "id": "W7DKKSpYysDF",
      "execution_count": 6,
      "outputs": [
        {
          "output_type": "stream",
          "name": "stdout",
          "text": [
            "{1: 1, 2: 8, 3: 27, 4: 64, 5: 125, 6: 216, 7: 343, 8: 512, 9: 729, 10: 1000}\n"
          ]
        }
      ]
    },
    {
      "cell_type": "code",
      "source": [
        "# assignment 6\n",
        "ass6_1 = {i: i**2 for i in range(1,6)}\n",
        "ass6_2 = {i: i**2 for i in range(6,11)}\n",
        "merged_dict = {**ass6_1, **ass6_2}\n",
        "print(merged_dict)"
      ],
      "metadata": {
        "colab": {
          "base_uri": "https://localhost:8080/"
        },
        "id": "qAotp6B9y8Bj",
        "outputId": "a50a61d3-e8a8-4ea9-b047-a5d864a3bef0"
      },
      "id": "qAotp6B9y8Bj",
      "execution_count": 7,
      "outputs": [
        {
          "output_type": "stream",
          "name": "stdout",
          "text": [
            "{1: 1, 2: 4, 3: 9, 4: 16, 5: 25, 6: 36, 7: 49, 8: 64, 9: 81, 10: 100}\n"
          ]
        }
      ]
    },
    {
      "cell_type": "code",
      "source": [
        "# assignment 7\n",
        "ass7 = {'name':'vamsi','age':21,'grade':{'maths':90,'science':80,'social':60} }\n",
        "for i,j in ass7.items():\n",
        "  print(i,':',j)"
      ],
      "metadata": {
        "colab": {
          "base_uri": "https://localhost:8080/"
        },
        "id": "IMF4kFv6za_b",
        "outputId": "96d97bde-e18e-4e12-f73e-e548b4ca7924"
      },
      "id": "IMF4kFv6za_b",
      "execution_count": 10,
      "outputs": [
        {
          "output_type": "stream",
          "name": "stdout",
          "text": [
            "name : vamsi\n",
            "age : 21\n",
            "grade : {'maths': 90, 'science': 80, 'social': 60}\n"
          ]
        }
      ]
    },
    {
      "cell_type": "code",
      "source": [
        "# assignment 8\n",
        "ass8 = {i :[i*j for j in range(1,6)]for i in range(1,6)}\n",
        "print(ass8)"
      ],
      "metadata": {
        "colab": {
          "base_uri": "https://localhost:8080/"
        },
        "id": "-w-Uq97D0D7u",
        "outputId": "c351b7ed-f01b-4ac3-d4c5-256cc10f460f"
      },
      "id": "-w-Uq97D0D7u",
      "execution_count": 11,
      "outputs": [
        {
          "output_type": "stream",
          "name": "stdout",
          "text": [
            "{1: [1, 2, 3, 4, 5], 2: [2, 4, 6, 8, 10], 3: [3, 6, 9, 12, 15], 4: [4, 8, 12, 16, 20], 5: [5, 10, 15, 20, 25]}\n"
          ]
        }
      ]
    },
    {
      "cell_type": "code",
      "source": [
        "# assignment 9\n",
        "ass8 = {i :(i, i**2)for i in range(1,6)}\n",
        "print(ass8)"
      ],
      "metadata": {
        "colab": {
          "base_uri": "https://localhost:8080/"
        },
        "id": "XyGiz-fl1PXs",
        "outputId": "733f9c49-4255-4f96-ef5b-657bd973df0b"
      },
      "id": "XyGiz-fl1PXs",
      "execution_count": 12,
      "outputs": [
        {
          "output_type": "stream",
          "name": "stdout",
          "text": [
            "{1: (1, 1), 2: (2, 4), 3: (3, 9), 4: (4, 16), 5: (5, 25)}\n"
          ]
        }
      ]
    },
    {
      "cell_type": "code",
      "source": [
        "# assignment 10\n",
        "ass10 = {i:i**2 for i in range(1,6)}\n",
        "print(list(ass10.items()))"
      ],
      "metadata": {
        "colab": {
          "base_uri": "https://localhost:8080/"
        },
        "id": "n3Cutbz62Ovs",
        "outputId": "35eb8f60-eef6-44c1-96e5-b5bcf9c1a83b"
      },
      "id": "n3Cutbz62Ovs",
      "execution_count": 13,
      "outputs": [
        {
          "output_type": "stream",
          "name": "stdout",
          "text": [
            "[(1, 1), (2, 4), (3, 9), (4, 16), (5, 25)]\n"
          ]
        }
      ]
    },
    {
      "cell_type": "code",
      "source": [
        "# assignment 11\n",
        "ass11 = {i:i**2 for i in range(1,11)}\n",
        "print(ass11)\n",
        "ass11_even = {i:j for i,j in ass11.items() if j%2==0}\n",
        "print(ass11_even)"
      ],
      "metadata": {
        "colab": {
          "base_uri": "https://localhost:8080/"
        },
        "id": "fS6MO-cx9EXW",
        "outputId": "b8a1bbb0-6a18-4a69-d614-9af2787f515e"
      },
      "id": "fS6MO-cx9EXW",
      "execution_count": 16,
      "outputs": [
        {
          "output_type": "stream",
          "name": "stdout",
          "text": [
            "{1: 1, 2: 4, 3: 9, 4: 16, 5: 25, 6: 36, 7: 49, 8: 64, 9: 81, 10: 100}\n",
            "{2: 4, 4: 16, 6: 36, 8: 64, 10: 100}\n"
          ]
        }
      ]
    },
    {
      "cell_type": "code",
      "source": [
        "# assignment 12\n",
        "ass12 = {j:i for i,j in ass11.items()}\n",
        "print(ass12)"
      ],
      "metadata": {
        "colab": {
          "base_uri": "https://localhost:8080/"
        },
        "id": "isNeZUGOEhHm",
        "outputId": "c0ac428c-d896-4127-8cd4-b610a4d07c83"
      },
      "id": "isNeZUGOEhHm",
      "execution_count": 18,
      "outputs": [
        {
          "output_type": "stream",
          "name": "stdout",
          "text": [
            "{1: 1, 4: 2, 9: 3, 16: 4, 25: 5, 36: 6, 49: 7, 64: 8, 81: 9, 100: 10}\n"
          ]
        }
      ]
    },
    {
      "cell_type": "code",
      "source": [
        "# assignment 13\n",
        "from collections import defaultdict\n",
        "my_dict = defaultdict(list)\n",
        "my_dict['fruits'].append('apple')\n",
        "my_dict['fruits'].append('banana')\n",
        "my_dict['vegetables'].append('carrot')\n",
        "\n",
        "print(my_dict)"
      ],
      "metadata": {
        "colab": {
          "base_uri": "https://localhost:8080/"
        },
        "id": "ceBXBVN_GthA",
        "outputId": "c8dc91fa-f3ea-4f05-c3b5-88a590afbeb6"
      },
      "id": "ceBXBVN_GthA",
      "execution_count": 19,
      "outputs": [
        {
          "output_type": "stream",
          "name": "stdout",
          "text": [
            "defaultdict(<class 'list'>, {'fruits': ['apple', 'banana'], 'vegetables': ['carrot']})\n"
          ]
        }
      ]
    },
    {
      "cell_type": "code",
      "source": [
        "# assignment 14\n",
        "ass14 = input(\"Enter a string: \")\n",
        "def charcount(ass14):\n",
        "  ass14_dict = {i : ass14.count(i)  for i in ass14}\n",
        "  return ass14_dict\n",
        "print(charcount(ass14))"
      ],
      "metadata": {
        "colab": {
          "base_uri": "https://localhost:8080/"
        },
        "id": "oOyefz3zHaNN",
        "outputId": "78e72c5e-3651-4494-b009-88fa0f5d71e4"
      },
      "id": "oOyefz3zHaNN",
      "execution_count": 24,
      "outputs": [
        {
          "output_type": "stream",
          "name": "stdout",
          "text": [
            "Enter a string: mohan vamsi\n",
            "{'m': 2, 'o': 1, 'h': 1, 'a': 2, 'n': 1, ' ': 1, 'v': 1, 's': 1, 'i': 1}\n"
          ]
        }
      ]
    },
    {
      "cell_type": "code",
      "source": [
        "# assignment 15\n",
        "import json\n",
        "ass15 = {'book':'spiderman',\n",
        "         'year': 2025,\n",
        "         'author':'vamsi',\n",
        "         'genre':'action'}\n",
        "json_string = json.dumps(ass15,indent=4)\n",
        "print(json_string)"
      ],
      "metadata": {
        "colab": {
          "base_uri": "https://localhost:8080/"
        },
        "id": "1EoNC5g9KxjH",
        "outputId": "54670ce5-1053-4272-f375-e1b0e74ef6b1"
      },
      "id": "1EoNC5g9KxjH",
      "execution_count": 27,
      "outputs": [
        {
          "output_type": "stream",
          "name": "stdout",
          "text": [
            "{\n",
            "    \"book\": \"spiderman\",\n",
            "    \"year\": 2025,\n",
            "    \"author\": \"vamsi\",\n",
            "    \"genre\": \"action\"\n",
            "}\n"
          ]
        }
      ]
    }
  ],
  "metadata": {
    "kernelspec": {
      "display_name": "Python 3",
      "language": "python",
      "name": "python3"
    },
    "language_info": {
      "codemirror_mode": {
        "name": "ipython",
        "version": 3
      },
      "file_extension": ".py",
      "mimetype": "text/x-python",
      "name": "python",
      "nbconvert_exporter": "python",
      "pygments_lexer": "ipython3",
      "version": "3.9.7"
    },
    "colab": {
      "provenance": []
    }
  },
  "nbformat": 4,
  "nbformat_minor": 5
}